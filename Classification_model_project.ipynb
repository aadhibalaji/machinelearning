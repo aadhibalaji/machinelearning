{
  "nbformat": 4,
  "nbformat_minor": 0,
  "metadata": {
    "colab": {
      "provenance": [],
      "include_colab_link": true
    },
    "kernelspec": {
      "name": "python3",
      "display_name": "Python 3"
    },
    "language_info": {
      "name": "python"
    }
  },
  "cells": [
    {
      "cell_type": "markdown",
      "metadata": {
        "id": "view-in-github",
        "colab_type": "text"
      },
      "source": [
        "<a href=\"https://colab.research.google.com/github/aadhibalaji/machinelearning/blob/main/Classification_model_project.ipynb\" target=\"_parent\"><img src=\"https://colab.research.google.com/assets/colab-badge.svg\" alt=\"Open In Colab\"/></a>"
      ]
    },
    {
      "cell_type": "code",
      "source": [
        "%cd /content/drive/MyDrive"
      ],
      "metadata": {
        "colab": {
          "base_uri": "https://localhost:8080/"
        },
        "id": "Z4qYd2Ueg31U",
        "outputId": "b7e7ff99-d2f0-4c2e-c6dd-0e5bde9c4b9e"
      },
      "execution_count": null,
      "outputs": [
        {
          "output_type": "stream",
          "name": "stdout",
          "text": [
            "/content/drive/MyDrive\n"
          ]
        }
      ]
    },
    {
      "cell_type": "code",
      "execution_count": null,
      "metadata": {
        "id": "tKRwTD44J_7W",
        "colab": {
          "base_uri": "https://localhost:8080/"
        },
        "outputId": "947ca617-43c0-4118-dfcf-f7b37b85d491"
      },
      "outputs": [
        {
          "output_type": "stream",
          "name": "stderr",
          "text": [
            "/usr/local/lib/python3.10/dist-packages/sklearn/datasets/_openml.py:968: FutureWarning: The default value of `parser` will change from `'liac-arff'` to `'auto'` in 1.4. You can set `parser='auto'` to silence this warning. Therefore, an `ImportError` will be raised from 1.4 if the dataset is dense and pandas is not installed. Note that the pandas parser may return different data types. See the Notes Section in fetch_openml's API doc for details.\n",
            "  warn(\n"
          ]
        }
      ],
      "source": [
        "#Load MNIST dataset\n",
        "from sklearn.datasets import fetch_openml\n",
        "\n",
        "mnist = fetch_openml('mnist_784', as_frame=False)"
      ]
    },
    {
      "cell_type": "code",
      "source": [
        "#Import all the necessary libraries\n",
        "import numpy as np\n",
        "import matplotlib.pyplot as plt\n",
        "from PIL import Image\n",
        "import pandas as pd\n",
        "from sklearn.model_selection import train_test_split\n",
        "from sklearn.linear_model import SGDClassifier\n",
        "from sklearn.preprocessing import StandardScaler\n",
        "from imblearn.under_sampling import RandomUnderSampler\n",
        "from imblearn.over_sampling import RandomOverSampler\n",
        "from sklearn.metrics import roc_curve, roc_auc_score, auc\n",
        "from sklearn.preprocessing import label_binarize\n",
        "from sklearn.neighbors import KNeighborsClassifier\n",
        "from sklearn.calibration import CalibratedClassifierCV\n"
      ],
      "metadata": {
        "id": "hRROTHBpg4iX"
      },
      "execution_count": null,
      "outputs": []
    },
    {
      "cell_type": "code",
      "source": [
        "dataset_path = '/content/drive/MyDrive/english.csv'\n",
        "df = pd.read_csv(dataset_path)\n",
        "\n",
        "#Set up dataframe to load in each image\n",
        "imageInfo,y = df['image'],df['label']\n",
        "counter = 0\n",
        "length = len(df)\n",
        "\n",
        "#Create new column for image data\n",
        "df['ImageData']=None\n",
        "\n",
        "\n",
        "\n",
        "print(length)\n"
      ],
      "metadata": {
        "colab": {
          "base_uri": "https://localhost:8080/"
        },
        "id": "kj42FXzBdt-i",
        "outputId": "1c43c6ce-6b0f-4f6b-fd0a-e977d04c2905"
      },
      "execution_count": null,
      "outputs": [
        {
          "output_type": "stream",
          "name": "stdout",
          "text": [
            "3410\n"
          ]
        }
      ]
    },
    {
      "cell_type": "code",
      "source": [
        "mnist_data = mnist.data\n",
        "mnist_labels = mnist.target\n",
        "\n",
        "num_samples = 2750\n",
        "additional_samples = []\n",
        "additional_labels = []\n",
        "\n",
        "\n",
        "#Get 50 iterations of 55 samples for each class\n",
        "for digit in range(10):\n",
        "  digit_indices = np.where(mnist_labels == str(digit))[0]\n",
        "  selected_indices = digit_indices[:num_samples]\n",
        "  additional_samples.append(mnist_data[selected_indices])\n",
        "  additional_labels.extend([digit] * num_samples)\n",
        "\n",
        "\n",
        "\n",
        "additional_samples = np.concatenate(additional_samples)\n",
        "additional_labels = np.array(additional_labels)\n",
        "\n",
        "\n"
      ],
      "metadata": {
        "id": "sarCIUvrEKqC"
      },
      "execution_count": null,
      "outputs": []
    },
    {
      "cell_type": "code",
      "source": [
        "imageData = []\n",
        "labelData = []\n",
        "\n",
        "counter = 0\n",
        "\n",
        "#Iterate over all image digits to load each image and convert to grayscale, resize, and store them as arrays\n",
        "for counter in range (549):\n",
        "  image_path = imageInfo[counter]\n",
        "\n",
        "  image = Image.open('/content/drive/MyDrive/'+ image_path)\n",
        "\n",
        "  image = image.resize((28,28), Image.ANTIALIAS)\n",
        "\n",
        "  gray_image = image.convert('L')\n",
        "  image_matrix = np.array(gray_image)\n",
        "\n",
        "  b=image_matrix.reshape(-1)\n",
        "  imageData.append(b)\n",
        "\n",
        "  labelData.append(df['label'].iloc[counter])\n",
        "\n"
      ],
      "metadata": {
        "colab": {
          "base_uri": "https://localhost:8080/"
        },
        "id": "BAjeGUT-nodX",
        "outputId": "0f71cc52-2f80-4cd9-dde4-d8e8290f1f7a"
      },
      "execution_count": null,
      "outputs": [
        {
          "output_type": "stream",
          "name": "stderr",
          "text": [
            "<ipython-input-6-ed89f351fb07>:10: DeprecationWarning: ANTIALIAS is deprecated and will be removed in Pillow 10 (2023-07-01). Use LANCZOS or Resampling.LANCZOS instead.\n",
            "  image = image.resize((28,28), Image.ANTIALIAS)\n"
          ]
        }
      ]
    },
    {
      "cell_type": "code",
      "source": [
        "original_samples = imageData\n",
        "original_labels = np.array(labelData)\n",
        "\n",
        "#Add MNIST samples to original dataset\n",
        "X = np.concatenate((original_samples, additional_samples))\n",
        "y = np.concatenate((original_labels, additional_labels))"
      ],
      "metadata": {
        "id": "uerytqtDfSxe"
      },
      "execution_count": null,
      "outputs": []
    },
    {
      "cell_type": "code",
      "source": [
        "#Split data into training and testing set\n",
        "X_train, X_test, y_train, y_test = train_test_split (X,y, test_size = 0.2, random_state = 42)"
      ],
      "metadata": {
        "id": "P4opZuHrfh7I"
      },
      "execution_count": null,
      "outputs": []
    },
    {
      "cell_type": "code",
      "source": [
        "#Encode all labels into binary\n",
        "from sklearn.preprocessing import LabelEncoder\n",
        "label_encoder = LabelEncoder()\n",
        "y_train = label_encoder.fit_transform(y_train)\n",
        "y_test = label_encoder.fit_transform(y_test)"
      ],
      "metadata": {
        "id": "0nSZkIKACnSr"
      },
      "execution_count": null,
      "outputs": []
    },
    {
      "cell_type": "code",
      "source": [
        "#Fit model to the training set\n",
        "model = SGDClassifier()\n",
        "sgdc = model.fit(X_train,y_train)"
      ],
      "metadata": {
        "id": "-oUftTGmCqJK"
      },
      "execution_count": null,
      "outputs": []
    },
    {
      "cell_type": "code",
      "source": [
        "#Define function that scores the model on the testing set\n",
        "def ml_test_model(model):\n",
        "  score = model.score(X_test, y_test)\n",
        "  return score"
      ],
      "metadata": {
        "id": "qgsq6aT-CslH"
      },
      "execution_count": null,
      "outputs": []
    },
    {
      "cell_type": "code",
      "source": [
        "#Call scoring function\n",
        "ml_test_model(sgdc)"
      ],
      "metadata": {
        "colab": {
          "base_uri": "https://localhost:8080/"
        },
        "id": "9ZtsNPJvCvQW",
        "outputId": "5fcd8676-1f39-4e8e-ff77-055ee817e658"
      },
      "execution_count": null,
      "outputs": [
        {
          "output_type": "execute_result",
          "data": {
            "text/plain": [
              "0.2545454545454545"
            ]
          },
          "metadata": {},
          "execution_count": 50
        }
      ]
    },
    {
      "cell_type": "code",
      "source": [
        "#Get the scores for each class\n",
        "y_scores = sgdc.decision_function(X_test)\n",
        "\n",
        "#Binarize the labels for the classes of all digits\n",
        "y_test_bin = label_binarize(y_test, classes=[0, 1, 2, 3, 4, 5, 6, 7, 8, 9])\n",
        "\n",
        "fpr = dict()\n",
        "tpr = dict()\n",
        "roc_auc = dict()\n",
        "\n",
        "#Calculate the false positive rates and true positive rates for each class\n",
        "for i in range(len(np.unique(y))):\n",
        "    fpr[i], tpr[i], _ = roc_curve(y_test == i, y_scores[:, i])\n",
        "    roc_auc[i] = auc(fpr[i], tpr[i])\n",
        "\n",
        "\n",
        "#Calculate the false positive and true positive rates for all classes\n",
        "all_fpr = np.unique(np.concatenate([fpr[i] for i in range(len(np.unique(y)))]))\n",
        "mean_tpr = np.mean([np.interp(all_fpr, fpr[i], tpr[i]) for i in range(len(np.unique(y)))], axis=0)\n",
        "macro_auc = auc(all_fpr, mean_tpr)\n",
        "\n",
        "\n",
        "#Plot ROC curve\n",
        "plt.figure()\n",
        "plt.plot(all_fpr, mean_tpr, label=f'Macro-Average (AUC = {macro_auc:.2f})')\n",
        "plt.plot([0, 1], [0, 1], 'k--')\n",
        "plt.xlim([0.0, 1.0])\n",
        "plt.ylim([0.0, 1.05])\n",
        "plt.xlabel('False Positive Rate')\n",
        "plt.ylabel('True Positive Rate')\n",
        "plt.title(' ROC Curve for Multiclass SGDClassifier')\n",
        "plt.legend(loc=\"lower right\")\n",
        "plt.show()"
      ],
      "metadata": {
        "colab": {
          "base_uri": "https://localhost:8080/",
          "height": 472
        },
        "id": "Drf5AhaX40lW",
        "outputId": "6865325b-f3b2-4b05-daff-b90ad0d3293c"
      },
      "execution_count": null,
      "outputs": [
        {
          "output_type": "display_data",
          "data": {
            "text/plain": [
              "<Figure size 640x480 with 1 Axes>"
            ],
            "image/png": "[encoded data removed]"
          },
          "metadata": {}
        }
      ]
    }
  ]
}